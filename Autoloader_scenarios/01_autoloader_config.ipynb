{
 "cells": [
  {
   "cell_type": "code",
   "execution_count": 0,
   "metadata": {
    "application/vnd.databricks.v1+cell": {
     "cellMetadata": {
      "byteLimit": 2048000,
      "rowLimit": 10000
     },
     "inputWidgets": {},
     "nuid": "a84e48a2-9a43-43f0-8638-63bf6030c2fa",
     "showTitle": false,
     "tableResultSettingsMap": {},
     "title": ""
    }
   },
   "outputs": [],
   "source": [
    "%run ./00_common_imports"
   ]
  },
  {
   "cell_type": "code",
   "execution_count": 0,
   "metadata": {
    "application/vnd.databricks.v1+cell": {
     "cellMetadata": {
      "byteLimit": 2048000,
      "rowLimit": 10000
     },
     "inputWidgets": {},
     "nuid": "085d6a50-7b9b-4f26-bbd9-9362c236f94b",
     "showTitle": false,
     "tableResultSettingsMap": {},
     "title": ""
    }
   },
   "outputs": [],
   "source": [
    "# Databricks notebook source\n",
    "# MAGIC %run \"./00_common_imports\"\n",
    "\n",
    "def detect_file_format(path):\n",
    "    \"\"\"Detect the data format from file extension.\"\"\"\n",
    "    if re.search(r'\\.csv(\\.gz)?$', path, re.IGNORECASE):\n",
    "        return \"csv\"\n",
    "    elif re.search(r'\\.json$', path, re.IGNORECASE):\n",
    "        return \"json\"\n",
    "    elif re.search(r'\\.parquet$', path, re.IGNORECASE):\n",
    "        return \"parquet\"\n",
    "    elif re.search(r'\\.orc$', path, re.IGNORECASE):\n",
    "        return \"orc\"\n",
    "    elif re.search(r'\\.txt$', path, re.IGNORECASE):\n",
    "        return \"text\"\n",
    "    elif re.search(r'\\.log$', path, re.IGNORECASE):\n",
    "        return \"text\"\n",
    "    else:\n",
    "        return None\n",
    "\n",
    "def list_source_items(base_path):\n",
    "    \"\"\"List all folders and classify them as supported or unsupported.\"\"\"\n",
    "    items = dbutils.fs.ls(base_path)\n",
    "    supported = []\n",
    "    unsupported = []\n",
    "\n",
    "    for item in items:\n",
    "        if item.isDir():\n",
    "            # check for supported files\n",
    "            sub_files = dbutils.fs.ls(item.path)\n",
    "            if any(detect_file_format(f.path) for f in sub_files):\n",
    "                supported.append(item.path)\n",
    "            else:\n",
    "                unsupported.append(item.path)\n",
    "        else:\n",
    "            # single files at base (like README.md)\n",
    "            if detect_file_format(item.path):\n",
    "                supported.append(item.path)\n",
    "            else:\n",
    "                unsupported.append(item.path)\n",
    "    return supported, unsupported\n"
   ]
  },
  {
   "cell_type": "code",
   "execution_count": 0,
   "metadata": {
    "application/vnd.databricks.v1+cell": {
     "cellMetadata": {},
     "inputWidgets": {},
     "nuid": "b0005b7e-ce77-4d09-8439-707de9b93ce2",
     "showTitle": false,
     "tableResultSettingsMap": {},
     "title": ""
    }
   },
   "outputs": [],
   "source": []
  }
 ],
 "metadata": {
  "application/vnd.databricks.v1+notebook": {
   "computePreferences": null,
   "dashboards": [],
   "environmentMetadata": {
    "base_environment": "",
    "environment_version": "4"
   },
   "inputWidgetPreferences": null,
   "language": "python",
   "notebookMetadata": {
    "mostRecentlyExecutedCommandWithImplicitDF": {
     "commandId": -1,
     "dataframes": [
      "_sqldf"
     ]
    },
    "pythonIndentUnit": 4
   },
   "notebookName": "01_autoloader_config",
   "widgets": {}
  },
  "language_info": {
   "name": "python"
  }
 },
 "nbformat": 4,
 "nbformat_minor": 0
}
