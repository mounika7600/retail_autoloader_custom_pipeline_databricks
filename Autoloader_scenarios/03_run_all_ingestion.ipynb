{
 "cells": [
  {
   "cell_type": "code",
   "execution_count": 0,
   "metadata": {
    "application/vnd.databricks.v1+cell": {
     "cellMetadata": {
      "byteLimit": 2048000,
      "rowLimit": 10000
     },
     "inputWidgets": {},
     "nuid": "a33d4300-1525-4ffe-a036-f69b2488169f",
     "showTitle": false,
     "tableResultSettingsMap": {},
     "title": ""
    }
   },
   "outputs": [],
   "source": [
    "%run ./02_autoloader_ingestion"
   ]
  },
  {
   "cell_type": "code",
   "execution_count": 0,
   "metadata": {
    "application/vnd.databricks.v1+cell": {
     "cellMetadata": {
      "byteLimit": 2048000,
      "rowLimit": 10000
     },
     "inputWidgets": {},
     "nuid": "f2ad4727-c4ef-47a0-a7d4-956def71f99a",
     "showTitle": false,
     "tableResultSettingsMap": {},
     "title": ""
    }
   },
   "outputs": [],
   "source": [
    "%run ./04_custom_ingestion"
   ]
  },
  {
   "cell_type": "code",
   "execution_count": 0,
   "metadata": {
    "application/vnd.databricks.v1+cell": {
     "cellMetadata": {
      "byteLimit": 2048000,
      "rowLimit": 10000
     },
     "inputWidgets": {},
     "nuid": "1f948797-d7f0-47ee-b38d-0abf207709a1",
     "showTitle": false,
     "tableResultSettingsMap": {},
     "title": ""
    }
   },
   "outputs": [],
   "source": [
    "# Databricks notebook source\n",
    "# MAGIC %run \"./02_autoloader_ingestion\"\n",
    "'''\n",
    "log(\"🚀 Starting Retail Org Auto Loader ingestion pipeline...\")\n",
    "\n",
    "# Step 1: Identify valid and unsupported folders/files\n",
    "supported_sources, unsupported_sources = list_source_items(SOURCE_BASE)\n",
    "log(f\"Found {len(supported_sources)} supported and {len(unsupported_sources)} unsupported sources.\")\n",
    "\n",
    "# Step 2: Ingest supported datasets\n",
    "for src in supported_sources:\n",
    "    folder_name = src.rstrip(\"/\").split(\"/\")[-1]\n",
    "    tgt = f\"{VOLUME_BASE}{folder_name}_autoloader/\"\n",
    "    log(f\"Ingesting {folder_name} -> {tgt}\")\n",
    "    ingest_with_autoloader(src, tgt)\n",
    "\n",
    "# Step 3: Copy unsupported (non-data) files for archival\n",
    "for src in unsupported_sources:\n",
    "    folder_name = src.rstrip(\"/\").split(\"/\")[-1]\n",
    "    tgt = f\"{VOLUME_BASE}{folder_name}_raw_copy/\"\n",
    "    log(f\"Copying unsupported files from {src} -> {tgt}\")\n",
    "    try:\n",
    "        dbutils.fs.cp(src, tgt, recurse=True)\n",
    "        log(f\"✅ Copied {src} successfully.\")\n",
    "    except Exception as e:\n",
    "        log(f\"❌ Failed to copy {src}: {e}\")\n",
    "\n",
    "log(\"🎉 All ingestion and copies completed.\")'''\n"
   ]
  },
  {
   "cell_type": "code",
   "execution_count": 0,
   "metadata": {
    "application/vnd.databricks.v1+cell": {
     "cellMetadata": {
      "byteLimit": 2048000,
      "rowLimit": 10000
     },
     "inputWidgets": {},
     "nuid": "13395959-c2cc-4ece-8bc5-d171883b96b2",
     "showTitle": false,
     "tableResultSettingsMap": {},
     "title": ""
    }
   },
   "outputs": [],
   "source": [
    "display(dbutils.fs.ls(\"dbfs:/databricks-datasets/retail-org/sales_orders/\"))"
   ]
  },
  {
   "cell_type": "code",
   "execution_count": 0,
   "metadata": {
    "application/vnd.databricks.v1+cell": {
     "cellMetadata": {
      "byteLimit": 2048000,
      "rowLimit": 10000
     },
     "inputWidgets": {},
     "nuid": "df6850fc-a63d-4e8d-a2a6-116532bfc11f",
     "showTitle": false,
     "tableResultSettingsMap": {},
     "title": ""
    }
   },
   "outputs": [],
   "source": [
    "# Databricks notebook source\n",
    "# MAGIC %run \"./02_autoloader_ingestion\"\n",
    "# MAGIC %run \"./04_custom_ingestion\"  # 👈 Added this line to include custom ingestion logic\n",
    "\n",
    "# COMMAND ----------\n",
    "\n",
    "log(\"🚀 Starting Retail Org ingestion pipeline (Auto Loader + Custom PySpark)...\")\n",
    "\n",
    "# Step 1️⃣: Identify valid and unsupported folders/files\n",
    "supported_sources, unsupported_sources = list_source_items(SOURCE_BASE)\n",
    "log(f\"Found {len(supported_sources)} supported and {len(unsupported_sources)} unsupported sources.\")\n",
    "\n",
    "# Step 2️⃣: AUTOLOADER INGESTION\n",
    "for src in supported_sources:\n",
    "    folder_name = src.rstrip(\"/\").split(\"/\")[-1]\n",
    "    tgt = f\"{VOLUME_BASE}{folder_name}_autoloader/\"\n",
    "    log(f\"⚡ Auto Loader Ingesting: {folder_name} -> {tgt}\")\n",
    "    try:\n",
    "        ingest_with_autoloader(src, tgt)\n",
    "    except Exception as e:\n",
    "        log(f\"❌ Auto Loader failed for {src}: {e}\")\n",
    "\n",
    "# Step 3️⃣: CUSTOM INGESTION (manual PySpark logic)\n",
    "# You can specify a few folders you want to test custom ingestion for\n",
    "custom_folders = [\n",
    "    \"customers\", \n",
    "    \"products\",\n",
    "    \"suppliers\"\n",
    "]\n",
    "\n",
    "for folder_name in custom_folders:\n",
    "    src = f\"{SOURCE_BASE}{folder_name}/\"\n",
    "    tgt = f\"{VOLUME_BASE}{folder_name}_custom_ingest/\"\n",
    "    log(f\"🔥 Custom PySpark ingestion for {folder_name} -> {tgt}\")\n",
    "    try:\n",
    "        custom_ingest(src, tgt, load_type=\"full\")  # You can change to incremental if needed\n",
    "    except Exception as e:\n",
    "        log(f\"❌ Custom ingestion failed for {src}: {e}\")\n",
    "\n",
    "# Step 4️⃣: Copy unsupported (non-data) files for archival\n",
    "for src in unsupported_sources:\n",
    "    folder_name = src.rstrip(\"/\").split(\"/\")[-1]\n",
    "    tgt = f\"{VOLUME_BASE}{folder_name}_raw_copy/\"\n",
    "    log(f\"📂 Copying unsupported files from {src} -> {tgt}\")\n",
    "    try:\n",
    "        dbutils.fs.cp(src, tgt, recurse=True)\n",
    "        log(f\"✅ Copied {src} successfully.\")\n",
    "    except Exception as e:\n",
    "        log(f\"❌ Failed to copy {src}: {e}\")\n",
    "\n",
    "log(\"🎉 All Auto Loader and Custom Ingestion tasks completed successfully.\")\n"
   ]
  }
 ],
 "metadata": {
  "application/vnd.databricks.v1+notebook": {
   "computePreferences": null,
   "dashboards": [],
   "environmentMetadata": {
    "base_environment": "",
    "environment_version": "4"
   },
   "inputWidgetPreferences": null,
   "language": "python",
   "notebookMetadata": {
    "mostRecentlyExecutedCommandWithImplicitDF": {
     "commandId": 7120363597184233,
     "dataframes": [
      "_sqldf"
     ]
    },
    "pythonIndentUnit": 4
   },
   "notebookName": "03_run_all_ingestion",
   "widgets": {}
  },
  "language_info": {
   "name": "python"
  }
 },
 "nbformat": 4,
 "nbformat_minor": 0
}
