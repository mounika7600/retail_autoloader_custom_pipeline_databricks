{
 "cells": [
  {
   "cell_type": "code",
   "execution_count": 0,
   "metadata": {
    "application/vnd.databricks.v1+cell": {
     "cellMetadata": {
      "byteLimit": 2048000,
      "rowLimit": 10000
     },
     "inputWidgets": {},
     "nuid": "5875ef50-8ac0-4dbc-bc26-d1f79153e049",
     "showTitle": false,
     "tableResultSettingsMap": {},
     "title": ""
    }
   },
   "outputs": [],
   "source": [
    "# Databricks notebook source\n",
    "from pyspark.sql import SparkSession\n",
    "from pyspark.sql.types import *\n",
    "from pyspark.sql.functions import *\n",
    "import re\n",
    "\n",
    "def log_info(msg):\n",
    "    print(f\"[INFO] {msg}\")\n",
    "\n",
    "def log_warning(msg):\n",
    "    print(f\"[WARNING] {msg}\")\n",
    "\n",
    "def log_error(msg):\n",
    "    print(f\"[ERROR] {msg}\")\n",
    "    print(traceback.format_exc())\n",
    "\n",
    "def log(msg):\n",
    "    print(f\"[LOG] {msg}\")\n",
    "\n",
    "spark = SparkSession.builder.appName(\"RetailOrgAutoLoader\").getOrCreate()\n",
    "\n",
    "# Base paths\n",
    "SOURCE_BASE = \"/databricks-datasets/retail-org/\"\n",
    "VOLUME_BASE = \"/Volumes/autoloader_ingestion/data_ingestion/data_retail/\""
   ]
  },
  {
   "cell_type": "code",
   "execution_count": 0,
   "metadata": {
    "application/vnd.databricks.v1+cell": {
     "cellMetadata": {},
     "inputWidgets": {},
     "nuid": "23346c13-f62f-4e7e-8e94-0a4bc74dcaef",
     "showTitle": false,
     "tableResultSettingsMap": {},
     "title": ""
    }
   },
   "outputs": [],
   "source": []
  }
 ],
 "metadata": {
  "application/vnd.databricks.v1+notebook": {
   "computePreferences": null,
   "dashboards": [],
   "environmentMetadata": {
    "base_environment": "",
    "environment_version": "4"
   },
   "inputWidgetPreferences": null,
   "language": "python",
   "notebookMetadata": {
    "pythonIndentUnit": 4
   },
   "notebookName": "00_common_imports",
   "widgets": {}
  },
  "language_info": {
   "name": "python"
  }
 },
 "nbformat": 4,
 "nbformat_minor": 0
}
